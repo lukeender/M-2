{
 "cells": [
  {
   "cell_type": "markdown",
   "metadata": {},
   "source": [
    "# Determination of $M^2$ beam quality factor "
   ]
  },
  {
   "cell_type": "markdown",
   "metadata": {},
   "source": [
    "This code was written to estimate the $M^2$ beam quality factor of a laser based on experimental data. The experiment was conducted as follows:\n",
    "* A HeNe laser's beam was put through a focusing lens\n",
    "* A CMOS camera was used to capture the beam's intensity pattern at various displacements from the focusing lens \n",
    "\n",
    "The basic function of this code is as follows:\n",
    "* Read in a series of images containing the intensity profiles\n",
    "* Perform simple averaging denoising on the images\n",
    "* Perform gaussian fitting on the x and y lines passing through the center of the beam spot of each image using the following formula:\n",
    "\\begin{equation}\n",
    "I(x) = A e^{-2(x - B)^2/C ^2} + D\n",
    "\\end{equation}\n",
    "* Extract the 1/e^2 radius for fits and perform fit according to caustic formula\n",
    "\\begin{equation}\n",
    "w^2(z) = w_0 ^2 + (M^2)^2 \\big( \\frac{\\lambda}{\\pi w_0} \\big)^2 (z - z_0)^2\n",
    "\\end{equation}\n",
    "* Extract M^2 value from fit and plot measured widths and fits vs displacement from focusing lens\n",
    "\n",
    "This code was inpired by a MATLAB program provided during a lab course at Friedrich-Schiller-University Jena, but it has been completely re-structured and re-written -- this version is both more full-featured and more concise, containing less than half of the number of lines of code."
   ]
  },
  {
   "cell_type": "code",
   "execution_count": 35,
   "metadata": {
    "collapsed": true
   },
   "outputs": [],
   "source": [
    "from imageio import imread\n",
    "from scipy.ndimage.filters import gaussian_filter\n",
    "from scipy.optimize import least_squares\n",
    "import numpy as np\n",
    "import matplotlib.pyplot as plt\n",
    "import os\n",
    "from scipy.ndimage.filters import convolve"
   ]
  },
  {
   "cell_type": "code",
   "execution_count": 36,
   "metadata": {
    "collapsed": true
   },
   "outputs": [],
   "source": [
    "path = \"180222_G3\" #The folder which contains the image files\n",
    "ext = \".jpg\" #extension of the images\n",
    "files = [f for f in os.listdir(path) if os.path.isfile(os.path.join(path, f))\n",
    "         and f[-len(ext):] == ext] #Returns a list of all files of given extension in the selected folder\n",
    "files = sorted(files)\n",
    "calibration = imread(path + \"/calibration/00.jpg\",pilmode=\"F\")\n",
    "images = [(imread(path + \"/\"+ f,pilmode=\"F\")\n",
    "           - calibration.astype(float)) for f in files]\n",
    "          #Read all image files into a single list, remove static noise\n",
    "leny,lenx = calibration.shape"
   ]
  },
  {
   "cell_type": "code",
   "execution_count": 37,
   "metadata": {
    "collapsed": true
   },
   "outputs": [],
   "source": [
    "#size = 2 #simple averaging noise removal\n",
    "#B = np.ones((size, size))\n",
    "#B /= B.sum()\n",
    "#images = [convolve(image.astype(np.float32), B) for image in images] # simple box filter\n",
    "\n",
    "images = [gaussian_filter(image,sigma = 0.5) for image in images] #gaussian filter to remove noise"
   ]
  },
  {
   "cell_type": "code",
   "execution_count": 38,
   "metadata": {
    "collapsed": true
   },
   "outputs": [],
   "source": [
    "mindicies = [np.unravel_index(image.argmax(),image.shape) \n",
    "             for image in images]                         #returns a list of tuples containing \n",
    "                                                          #the incicies of the horizontal and \n",
    "                                                          #verticle lines whose sum is largest\n",
    "                                                          #(i.e the indicies of the center of the spot)"
   ]
  },
  {
   "cell_type": "code",
   "execution_count": 39,
   "metadata": {
    "collapsed": true
   },
   "outputs": [],
   "source": [
    "testwidth = 100\n",
    "wavelength = 632.8e-9 #in m\n",
    "M2_guess = 1.2\n",
    "z0_guess = 20e-3\n",
    "def gaussian(var,x,y): #Equation of a 2-d Gaussian for lsq\n",
    "    return var[0] * np.exp(-2 * ((x-var[1]) / var[2])**2) - y + var[3]\n",
    "\n",
    "def caustic(var,z,y): #Equation of the beam caustic for lsq\n",
    "    return np.sqrt(var[0]**2 + ((var[1]*(wavelength)*(z-var[2]))/(np.pi*var[0]))**2) - y\n",
    "\n",
    "def lsq_gauss(line): #lsq function for gaussian\n",
    "    return least_squares(gaussian,[np.max(line),np.argmax(line),testwidth,np.min(line)]\n",
    "                         ,loss = \"soft_l1\",f_scale=0.1,max_nfev = 1000,args = (np.arange(len(line)),line))\n",
    "                            \n",
    "def lsq_caustic(radii): #lsq function for beam caustic\n",
    "    return least_squares(caustic, [np.average(radii),M2_guess,z0_guess]\n",
    "                         ,loss = \"soft_l1\",f_scale=0.1,args = (z,radii),max_nfev = 1000)"
   ]
  },
  {
   "cell_type": "code",
   "execution_count": 40,
   "metadata": {
    "collapsed": true,
    "scrolled": true
   },
   "outputs": [],
   "source": [
    "fits = [(lsq_gauss(image[index[0]]),\n",
    "         lsq_gauss(image.T[index[1]])) for image,index in zip(images,mindicies)]\n",
    "                                                                #returns a list of tuples "
   ]
  },
  {
   "cell_type": "code",
   "execution_count": 41,
   "metadata": {
    "collapsed": true
   },
   "outputs": [],
   "source": [
    "            #data was recorded with a variable step size in z,\n",
    "            #thus we must define the step sizes used in order\n",
    "            #to create the z vector\n",
    "step1 = 5 #step sizes in mm\n",
    "step2 = 10\n",
    "step3 = 50\n",
    "\n",
    "numsteps1 = 20 #number of data points (i.e. images)\n",
    "               #for each step size\n",
    "numsteps2 = 10\n",
    "numsteps3 = 5\n",
    "\n",
    "z = step1*np.arange(0,numsteps1)\n",
    "z = np.concatenate((z,step2*np.arange(1,(numsteps2 + 1)) + z[-1]))\n",
    "z = np.concatenate((z,step3*np.arange(1,(numsteps3 + 1)) + z[-1]))\n",
    "z = z*1e-3 #convert to meter"
   ]
  },
  {
   "cell_type": "code",
   "execution_count": 42,
   "metadata": {
    "collapsed": true
   },
   "outputs": [],
   "source": [
    "pixel_pitch = 5.2e-6 #in meter\n",
    "radii = [np.array([fit[0].x[2],fit[1].x[2]]) for fit in fits]\n",
    "radii = np.abs(pixel_pitch*np.asarray(radii)) #convert to np array,\n",
    "                                              #convert num pixels to meters\n",
    "caustic_fits = [lsq_caustic(radii[:,0]),lsq_caustic(radii[:,1])]"
   ]
  },
  {
   "cell_type": "code",
   "execution_count": 43,
   "metadata": {
    "scrolled": false
   },
   "outputs": [
    {
     "data": {
      "image/png": "[encoded data removed]",
      "text/plain": [
       "<Figure size 1152x648 with 2 Axes>"
      ]
     },
     "metadata": {
      "needs_background": "light"
     },
     "output_type": "display_data"
    }
   ],
   "source": [
    "numdec = 5 #the number of decimals of the M^2 value to display -2\n",
    "params = [{'mathtext.default': 'regular' },{'axes.titlesize': '14' }\n",
    "          ,{'axes.labelsize': '14' },{'figure.titlesize': '18' }\n",
    "          ,{'scatter.marker': '+' }]          \n",
    "for param in params:\n",
    "    plt.rcParams.update(param) #initial plot parameters\n",
    "\n",
    "f, ax = plt.subplots(1, 2, sharey=True)\n",
    "f.suptitle(\"$M^{2}$\")\n",
    "f.set_size_inches(16, 9)\n",
    "axislabels = [\"x-direction\",\"y-direction\"]\n",
    "\n",
    "for i in np.arange(len(caustic_fits)):\n",
    "    ax[i].set_title(axislabels[i])\n",
    "    ax[i].scatter(z,radii[:,i], label = \"Data\")\n",
    "    ax[i].plot(z,caustic(caustic_fits[i].x[:4],z,0),c = \"red\",label = \"Fit\")\n",
    "    ax[i].text(0.05,0.6,\"$M^{2}$ = \" + str(caustic_fits[i].x[1])[:numdec]\n",
    "               ,fontsize = 14,transform=ax[i].transAxes)\n",
    "    ax[i].set_xlabel(\"Displacement from focusing lens (m)\")\n",
    "\n",
    "rmin = np.min(radii)\n",
    "rmax = np.max(radii)\n",
    "rint = rmax - rmin\n",
    "plt.ylim(rmin - rint/8,rmax + rint/8) #Setup y-axis window\n",
    "ax[0].set_ylabel(\"Beam width (m)\")\n",
    "plt.legend()\n",
    "#plt.savefig(\"M^2.eps\",format = \"eps\")\n",
    "plt.show()"
   ]
  },
  {
   "cell_type": "code",
   "execution_count": 44,
   "metadata": {},
   "outputs": [
    {
     "name": "stdout",
     "output_type": "stream",
     "text": [
      "The average M^2 value is 1.231\n"
     ]
    }
   ],
   "source": [
    "m2avg = (caustic_fits[0].x[1] + caustic_fits[1].x[1])/2\n",
    "print(\"The average M^2 value is \" + str(m2avg)[:numdec])"
   ]
  }
 ],
 "metadata": {
  "kernelspec": {
   "display_name": "Python 3",
   "language": "python",
   "name": "python3"
  },
  "language_info": {
   "codemirror_mode": {
    "name": "ipython",
    "version": 3
   },
   "file_extension": ".py",
   "mimetype": "text/x-python",
   "name": "python",
   "nbconvert_exporter": "python",
   "pygments_lexer": "ipython3",
   "version": "3.5.2"
  }
 },
 "nbformat": 4,
 "nbformat_minor": 2
}
